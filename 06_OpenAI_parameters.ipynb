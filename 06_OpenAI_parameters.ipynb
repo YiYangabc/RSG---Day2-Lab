{
 "cells": [
  {
   "cell_type": "code",
   "execution_count": 1,
   "metadata": {},
   "outputs": [],
   "source": [
    "import os\n",
    "import openai\n",
    "from dotenv import load_dotenv\n",
    "load_dotenv()\n",
    "\n",
    "openai.api_type = \"azure\"\n",
    "openai.api_version = os.getenv(\"OPENAI_API_VERSION\")\n",
    "openai.api_key = os.getenv(\"OPENAI_API_KEY\")\n",
    "openai.api_base = os.getenv(\"OPENAI_API_BASE\")\n",
    "\n",
    "CHAT_COMPLETIONS_MODEL = os.getenv('GPT_4_DEPLOYMENT')"
   ]
  },
  {
   "attachments": {},
   "cell_type": "markdown",
   "metadata": {},
   "source": [
    "# temperature\n",
    "\n",
    "Defaults to 1\n",
    "\n",
    "What sampling temperature to use. Higher values means the model will take more risks. Try 0.9 for more creative applications, and 0 (argmax sampling) for ones with a well-defined answer.\n",
    "\n",
    "We generally recommend altering this or top_p but not both."
   ]
  },
  {
   "cell_type": "code",
   "execution_count": 2,
   "metadata": {},
   "outputs": [],
   "source": [
    "def call_openai(num_times, prompt, temperature):\n",
    "    for i in range(num_times):\n",
    "        response = openai.ChatCompletion.create(\n",
    "            engine=CHAT_COMPLETIONS_MODEL,\n",
    "            messages = [{\"role\":\"system\", \"content\":\"You are a helpful assistant.\"},\n",
    "                        {\"role\":\"user\",\"content\": prompt}],\n",
    "                max_tokens=60,\n",
    "                temperature = temperature\n",
    "        )\n",
    "        print(response['choices'][0]['message']['content'])"
   ]
  },
  {
   "cell_type": "code",
   "execution_count": 3,
   "metadata": {},
   "outputs": [
    {
     "name": "stdout",
     "output_type": "stream",
     "text": [
      "That's subjective and depends on your lifestyle, preferences, and needs. Some people might prefer dogs for their loyalty and companionship, while others might prefer cats for their independence and low maintenance. Some might prefer smaller pets like fish or hamsters, while others might enjoy the unique companionship of a bird\n",
      "That's subjective and depends on your lifestyle, preferences, and needs. Dogs are often considered great for their loyalty and companionship. Cats are independent and can be easier to care for. Fish or reptiles require less interaction but have their own unique needs. Small mammals like hamsters or rabbits can be\n",
      "That's subjective and depends on your lifestyle, preferences, and needs. Dogs are often considered great for their loyalty and companionship. Cats are more independent and can be easier to care for. Fish can be calming and require less interaction. Small mammals like hamsters or rabbits are often good for smaller living\n",
      "That's subjective and depends on your lifestyle, preferences, and needs. Dogs are often considered great for their loyalty and companionship. Cats are more independent and can be easier to care for. Fish can be calming and require less interaction. Small mammals like hamsters or rabbits are often good for smaller living\n",
      "That's subjective and depends on your lifestyle, preferences, and needs. Some people might prefer dogs for their loyalty and companionship, while others might prefer cats for their independence and low maintenance. Some might prefer smaller pets like fish or hamsters, while others might enjoy the unique companionship of a rept\n",
      "That's subjective and depends on your lifestyle, preferences, and needs. Some people might prefer dogs for their loyalty and companionship, while others might prefer cats for their independence and low maintenance. Some might prefer smaller pets like fish or hamsters, and others might prefer birds or reptiles. It's\n",
      "That's subjective and depends on your lifestyle, preferences, and needs. Some people might prefer dogs for their loyalty and companionship, while others might prefer cats for their independence and low maintenance. Some might prefer smaller pets like fish or hamsters, and others might prefer birds for their ability to interact and\n",
      "That's subjective and depends on your lifestyle, preferences, and needs. Some people might prefer dogs for their loyalty and companionship, while others might prefer cats for their independence and low maintenance. Some might prefer smaller pets like fish or hamsters, while others might enjoy the unique companionship of a rept\n",
      "That's subjective and depends on your lifestyle, preferences, and needs. Dogs are often considered great for their loyalty and companionship. Cats are more independent and can be easier to care for. Fish or reptiles require less interaction but have their own unique needs. Small mammals like hamsters or rabbits can\n",
      "That's subjective and depends on your lifestyle, preferences, and needs. Some people might prefer dogs for their loyalty and companionship, while others might prefer cats for their independence and low maintenance. Some might prefer smaller pets like fish or hamsters, while others might prefer birds for their ability to interact and\n"
     ]
    }
   ],
   "source": [
    "call_openai(10, 'The best pet is a ', temperature = 0)"
   ]
  },
  {
   "cell_type": "code",
   "execution_count": 4,
   "metadata": {},
   "outputs": [
    {
     "name": "stdout",
     "output_type": "stream",
     "text": [
      "matter of personal preference, as different pets suit different lifestyles and personalities. Some might prefer a dog for their loyalty and companionship, while others might prefer a cat for their independence and low maintenance. Small animals like rabbits, hamsters, or fish might be best for those living in a small space or\n",
      "That greatly depends on your personal preferences, lifestyle, and possibly allergies. For example, dogs might be great for those who love outdoor activities and want a high-energy companion, while cats might be perfect for those preferring a more low-maintenance pet. Fish and reptiles can be good for people with limited\n",
      "The best pet really depends on your lifestyle and personal preferences. For some people, a dog might be the best pet because they're loyal, affectionate and great companions. For others, a cat might be ideal because they're self-sufficient, quiet and easy to care for. Other possibilities include fish\n",
      "That completely depends on your lifestyle, preferences, allergies, and living situation. \n",
      "\n",
      "- Dogs are great for active individuals who love to spend time outdoors and have enough space and time. \n",
      "- Cats are more suitable for those who like independent animals and live in smaller spaces or are allergic to dogs. \n",
      "\n",
      "This largely depends on your personal preferences, lifestyle, and living situation. If you are active and have lots of time, a dog could be a great fit. They require lots of care, attention, and exercise, but provide companionship and loyalty. However, if you’re in an apartment or tend\n",
      "It ultimately depends on your lifestyle, preferences, and needs. Here are few things to consider:\n",
      "\n",
      "1. Dogs: Known for their loyalty and friendliness, they're great companions but require a lot of attention and exercise.\n",
      "\n",
      "2. Cats: They're more independent than dogs and usually require less attention,\n",
      "The best pet for you depends on your personal preference, lifestyle, and your living situation. Some might say a dog is the best pet because of their loyalty and their ability to provide companionship. Cats can also make great pets because they are typically more independent and require less attention. Small animals such as\n",
      "This can vary greatly depending on a person's lifestyle, preferences, and needs. Dogs are often seen as the \"best\" pet for those seeking loyalty, companionship and active play. Cats can be wonderful for those seeking a lower-maintenance pet that still provides companionship. Birds, hamsters,\n",
      "This can be quite subjective as it greatly depends on an individual's lifestyle, preference and needs. For an active person who enjoys long walks or runs, a dog might be ideal. For someone who wants a less demanding pet, cats might be preferable. Small animals like hamsters or fish require less space\n",
      "personal preference and it really depends on factors such as your lifestyle, living situation, allergies, and the amount of time you are able to devote to caring for a pet. Some may prefer dogs for their loyalty and active nature while others may prefer cats for their independence. There are also those who prefer smaller\n"
     ]
    }
   ],
   "source": [
    "call_openai(10, 'The best pet is a ', temperature = 1)"
   ]
  },
  {
   "attachments": {},
   "cell_type": "markdown",
   "metadata": {},
   "source": [
    "# n\n",
    "\n",
    "Defaults to 1\n",
    "\n",
    "How many completions to generate for each prompt.\n",
    "\n",
    "Note: Because this parameter generates many completions, it can quickly consume your token quota. Use carefully and ensure that you have reasonable settings for max_tokens and stop."
   ]
  },
  {
   "cell_type": "code",
   "execution_count": 5,
   "metadata": {},
   "outputs": [
    {
     "name": "stdout",
     "output_type": "stream",
     "text": [
      "This is subjective as it depends on personal preferences, lifestyle, allergies, and the time you can commit to caretaking. Dogs are known for their loyalty and can be great companions and keep you active. Cats are independent and can be easier to take care of. Small pets like rabbits or hamsters require\n",
      "The choice of the best pet largely depends on an individual's lifestyle, preference, and needs. Some might favor dogs for their loyalty and active nature, while others might prefer cats for their independence and low-maintenance care. Others might opt for smaller pets like fish, hamsters or birds, or even\n"
     ]
    }
   ],
   "source": [
    "response = openai.ChatCompletion.create(\n",
    "            engine=CHAT_COMPLETIONS_MODEL,\n",
    "            messages = [{\"role\":\"system\", \"content\":\"You are a helpful assistant.\"},\n",
    "                        {\"role\":\"user\",\"content\": \"The best pet is a \"}],\n",
    "                max_tokens=60,\n",
    "                n=2\n",
    "        )\n",
    "\n",
    "for c in response['choices']:\n",
    "    print(c['message']['content'])"
   ]
  },
  {
   "attachments": {},
   "cell_type": "markdown",
   "metadata": {},
   "source": [
    "# presence_penalty\n",
    "\n",
    "Defaults to 0\n",
    "\n",
    "Number between -2.0 and 2.0. Positive values penalize new tokens based on whether they appear in the text so far, increasing the model's likelihood to talk about new topics.\n",
    "\n",
    "# frequency_penalty\n",
    "\n",
    "Defaults to 0\n",
    "\n",
    "Number between -2.0 and 2.0. Positive values penalize new tokens based on their existing frequency in the text so far, decreasing the model's likelihood to repeat the same line verbatim.\n"
   ]
  },
  {
   "cell_type": "markdown",
   "metadata": {},
   "source": []
  }
 ],
 "metadata": {
  "kernelspec": {
   "display_name": "azureml_py310_sdkv2",
   "language": "python",
   "name": "python3"
  },
  "language_info": {
   "codemirror_mode": {
    "name": "ipython",
    "version": 3
   },
   "file_extension": ".py",
   "mimetype": "text/x-python",
   "name": "python",
   "nbconvert_exporter": "python",
   "pygments_lexer": "ipython3",
   "version": "3.12.2"
  },
  "orig_nbformat": 4,
  "vscode": {
   "interpreter": {
    "hash": "2139c70ac98f3202d028164a545621647e07f47fd6f5d8ac55cf952bf7c15ed1"
   }
  }
 },
 "nbformat": 4,
 "nbformat_minor": 2
}
