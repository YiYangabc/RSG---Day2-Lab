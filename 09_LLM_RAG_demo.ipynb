{
 "cells": [
  {
   "attachments": {},
   "cell_type": "markdown",
   "metadata": {},
   "source": [
    "# Demo: OpenAI Large Language Model - A RAG Sample\n",
    "\n",
    "In this demo, we show how to use GPT3 model to analyze natural query, use knowledge base to search for more information and answer questions."
   ]
  },
  {
   "cell_type": "code",
   "execution_count": 1,
   "metadata": {},
   "outputs": [],
   "source": [
    "import openai\n",
    "import os\n",
    "from dotenv import load_dotenv\n",
    "load_dotenv()\n",
    "\n",
    "openai.api_type = \"azure\"\n",
    "openai.api_version = os.getenv(\"OPENAI_API_VERSION\")\n",
    "openai.api_key = os.getenv(\"OPENAI_API_KEY\")\n",
    "openai.api_base = os.getenv(\"OPENAI_API_BASE\")\n",
    "\n",
    "CHAT_COMPLETIONS_MODEL = os.getenv('GPT_4_DEPLOYMENT')"
   ]
  },
  {
   "attachments": {},
   "cell_type": "markdown",
   "metadata": {},
   "source": [
    "### Start with a natural question"
   ]
  },
  {
   "cell_type": "code",
   "execution_count": 2,
   "metadata": {},
   "outputs": [],
   "source": [
    "input = \"Which presendential candidate is likely to win in 2024 election? Explain the reasons.\""
   ]
  },
  {
   "attachments": {},
   "cell_type": "markdown",
   "metadata": {},
   "source": [
    "### Step 1: GPT3: What do I need to to answer this question?"
   ]
  },
  {
   "cell_type": "code",
   "execution_count": 3,
   "metadata": {},
   "outputs": [],
   "source": [
    "system_prompt=f'''Answer the following questions as best you can. You have access to the following tools:\n",
    "\n",
    "Web Search: Use the web to find information\n",
    "\n",
    "You need to follow STRICTLY below format:\n",
    "\n",
    "Question: the input question you must answer\n",
    "Thought: you should always think about what to do\n",
    "Action: the action to take, should be one of [Research]\n",
    "Action Input: the input to the action\n",
    "\n",
    "Begin!\n",
    "'''\n",
    "user_prompt = f'''\n",
    "Question: {input}\n",
    "Thought:'''"
   ]
  },
  {
   "cell_type": "code",
   "execution_count": 4,
   "metadata": {},
   "outputs": [
    {
     "name": "stdout",
     "output_type": "stream",
     "text": [
      "This question involves predicting future events which are uncertain and may involve opinions. As of now, it would be appropriate to research the popularity of current politicians, potential candidates, policies, or political trends. However, it is important to note that the answer might not be fully accurate due to the unpredictable nature of politics and human decisions.\n",
      "Action: Research\n",
      "Action Input: 2024 presidential election predictions\n"
     ]
    }
   ],
   "source": [
    "response = openai.ChatCompletion.create(\n",
    "    engine=CHAT_COMPLETIONS_MODEL,\n",
    "    messages = [{\"role\":\"system\", \"content\":system_prompt},\n",
    "                {\"role\":\"user\",\"content\": user_prompt,}],\n",
    "        max_tokens=400,)\n",
    "\n",
    "print(response['choices'][0]['message']['content'])"
   ]
  },
  {
   "attachments": {},
   "cell_type": "markdown",
   "metadata": {},
   "source": [
    "### Step 2: Search web for more details "
   ]
  },
  {
   "cell_type": "code",
   "execution_count": 12,
   "metadata": {},
   "outputs": [],
   "source": [
    "# Use Azure BING Search API to get the results\n",
    "import requests\n",
    "import json\n",
    "url = \"https://api.bing.microsoft.com/v7.0/search\"\n",
    "headers = {\"Ocp-Apim-Subscription-Key\": os.getenv('BING_SUBSCRIPTION_KEY')}\n",
    "params = {\"q\": \"2024 presidential election candidates and current political analysis\"}\n",
    "response = requests.get(url, headers=headers, params=params)"
   ]
  },
  {
   "cell_type": "code",
   "execution_count": 13,
   "metadata": {},
   "outputs": [
    {
     "name": "stdout",
     "output_type": "stream",
     "text": [
      "{'_type': 'SearchResponse', 'queryContext': {'originalQuery': '2024 presidential election candidates and current political analysis'}, 'webPages': {'webSearchUrl': 'https://www.bing.com/search?q=2024+presidential+election+candidates+and+current+political+analysis', 'totalEstimatedMatches': 734000, 'value': [{'id': 'https://api.bing.microsoft.com/api/v7/#WebPages.0', 'name': 'The 2024 presidential candidates: Who’s running from both sides', 'url': 'https://www.nbcnews.com/politics/2024-elections/presidential-candidates-tracker', 'thumbnailUrl': 'https://www.bing.com/th?id=OIP.qhumvfIio6sQHsnltmAI-wAAAA&w=80&h=80&c=1&pid=5.1', 'datePublished': '2024-02-08T15:51:00.0000000', 'datePublishedDisplayText': 'Feb 8, 2024', 'isFamilyFriendly': True, 'displayUrl': 'https://www.nbcnews.com/politics/2024-elections/presidential-candidates-tracker', 'snippet': 'As voters in early states head to the polls, the Republican presidential field has dropped to two candidates. Former President Donald Trump continues to lead the pack by a considerable margin and ...', 'dateLastCrawled': '2024-02-22T05:01:00.0000000Z', 'primaryImageOfPage': {'thumbnailUrl': 'https://www.bing.com/th?id=OIP.qhumvfIio6sQHsnltmAI-wAAAA&w=80&h=80&c=1&pid=5.1', 'width': 80, 'height': 80, 'imageId': 'OIP.qhumvfIio6sQHsnltmAI-wAAAA'}, 'cachedPageUrl': 'http://cc.bingj.com/cache.aspx?q=2024+presidential+election+candidates+and+current+political+analysis&d=4613409421605349&mkt=en-US&setlang=en-US&w=t7y70IhS7BUx75a-7DbMbKO6JbvNk3-5', 'language': 'en', 'isNavigational': True}, {'id': 'https://api.bing.microsoft.com/api/v7/#WebPages.1', 'name': 'Who Are the 2024 Presidential Election Candidates? - The New York Times', 'url': 'https://www.nytimes.com/interactive/2023/us/politics/presidential-candidates-2024.html', 'thumbnailUrl': 'https://www.bing.com/th?id=OIP.4Q13tzuQ3AWhqqdNwAPdgwHaD3&w=80&h=80&c=1&pid=5.1', 'isFamilyFriendly': True, 'displayUrl': 'https://www.nytimes.com/interactive/2023/us/politics/presidential-candidates-2024.html', 'snippet': 'Campaigns 2016 to 2024: When Candidates Entered and Exited Their Races. In the past two presidential election cycles, most announced their bids by summer the year before Election Day and dropped ...', 'dateLastCrawled': '2024-02-23T06:03:00.0000000Z', 'primaryImageOfPage': {'thumbnailUrl': 'https://www.bing.com/th?id=OIP.4Q13tzuQ3AWhqqdNwAPdgwHaD3&w=80&h=80&c=1&pid=5.1', 'width': 80, 'height': 80, 'imageId': 'OIP.4Q13tzuQ3AWhqqdNwAPdgwHaD3'}, 'language': 'en', 'isNavigational': False}, {'id': 'https://api.bing.microsoft.com/api/v7/#WebPages.2', 'name': '2024 Election: News, polls and results | CNN Politics', 'url': 'https://www.cnn.com/election/2024', 'isFamilyFriendly': True, 'displayUrl': 'https://www.cnn.com/election', 'snippet': '2024 election guide: Presidential candidates, polls, primaries and caucuses, voter information and results for November 5, 2024', 'dateLastCrawled': '2024-02-23T04:34:00.0000000Z', 'cachedPageUrl': 'http://cc.bingj.com/cache.aspx?q=2024+presidential+election+candidates+and+current+political+analysis&d=4941248570066870&mkt=en-US&setlang=en-US&w=kYK5e42AtF7HBW5MHT9V0cL41BUZZgXV', 'language': 'en', 'isNavigational': False}, {'id': 'https://api.bing.microsoft.com/api/v7/#WebPages.3', 'name': 'Comparing where 2024 presidential candidates stand on key issues', 'url': 'https://www.washingtonpost.com/politics/interactive/2023/presidential-candidates-2024-policies-issues/', 'datePublished': '2023-11-08T00:00:00.0000000', 'datePublishedDisplayText': 'Nov 8, 2023', 'isFamilyFriendly': True, 'displayUrl': 'https://www.washingtonpost.com/politics/interactive/2023/presidential-candidates-2024...', 'snippet': 'Election 2024. Get the latest news on the 2024 election. Compare where the 2024 presidential candidates stand on key issues like abortion, climate and the economy.', 'dateLastCrawled': '2024-02-21T17:49:00.0000000Z', 'cachedPageUrl': 'http://cc.bingj.com/cache.aspx?q=2024+presidential+election+candidates+and+current+political+analysis&d=4945960155246060&mkt=en-US&setlang=en-US&w=bk6_qic0hRvJKeYV9tnrXHqBn2rv46ik', 'language': 'en', 'isNavigational': False, 'richFacts': [{'label': {'text': 'Author'}, 'items': [{'text': 'Washington Post Staff'}], 'hint': {'text': 'BASE:AUTHOR'}}]}, {'id': 'https://api.bing.microsoft.com/api/v7/#WebPages.4', 'name': '2024 Election news: Latest on the presidential race, polls & results', 'url': 'https://www.politico.com/news/2024-elections', 'isFamilyFriendly': True, 'displayUrl': 'https://www.politico.com/news/2024-elections', 'snippet': 'Live 2024 election results and maps by state The presidential nominating contests begin with the Iowa caucuses on Jan. 15 and the first-in-the-nation New Hampshire primary on Jan. 23.', 'dateLastCrawled': '2024-02-22T00:12:00.0000000Z', 'cachedPageUrl': 'http://cc.bingj.com/cache.aspx?q=2024+presidential+election+candidates+and+current+political+analysis&d=4872121068750036&mkt=en-US&setlang=en-US&w=V9BNaNqPajKnlfmWPkylW6KXAa3PrE6D', 'language': 'en', 'isNavigational': False}, {'id': 'https://api.bing.microsoft.com/api/v7/#WebPages.5', 'name': 'President: general election : 2024 Polls | FiveThirtyEight', 'url': 'https://projects.fivethirtyeight.com/polls/president-general/2024/', 'datePublished': '2024-02-18T00:00:00.0000000', 'datePublishedFreshnessText': '5 days ago', 'isFamilyFriendly': True, 'displayUrl': 'https://projects.fivethirtyeight.com/polls/president-general/2024', 'snippet': 'The latest political polls and polling averages from FiveThirtyEight. UPDATED Feb. 22, 2024, at 3:59 PM ... An updating average of 2020 presidential general election polls, accounting for each poll’s quality, sample size and recency. KEY. ... presidential approval and national 2024 Republican primary averages is available for download here.', 'dateLastCrawled': '2024-02-22T01:07:00.0000000Z', 'cachedPageUrl': 'http://cc.bingj.com/cache.aspx?q=2024+presidential+election+candidates+and+current+political+analysis&d=4703865733868420&mkt=en-US&setlang=en-US&w=RaeAxOVQa2hbEkjeav4TfduvX95_4F_4', 'language': 'en', 'isNavigational': False}, {'id': 'https://api.bing.microsoft.com/api/v7/#WebPages.6', 'name': '2024 U.S. Presidential Election - statistics & facts | Statista', 'url': 'https://www.statista.com/topics/11901/2024-us-presidential-election/', 'datePublished': '2024-02-21T00:00:00.0000000', 'datePublishedFreshnessText': '2 days ago', 'isFamilyFriendly': True, 'displayUrl': 'https://www.statista.com/topics/11901/2024-us-presidential-election', 'snippet': 'The primary elections are ongoing, thus the Republican and Democratic candidates have yet to be officially determined. Nonetheless, recent polls have indicated an almost certain rematch between ...', 'dateLastCrawled': '2024-02-23T04:40:00.0000000Z', 'cachedPageUrl': 'http://cc.bingj.com/cache.aspx?q=2024+presidential+election+candidates+and+current+political+analysis&d=4802880875087&mkt=en-US&setlang=en-US&w=k89_Qpvf4uBFSsXc_sRCkLi0rdLEBFtg', 'language': 'en', 'isNavigational': False}, {'id': 'https://api.bing.microsoft.com/api/v7/#WebPages.7', 'name': 'Who’s running for president in 2024? The Republican and Democratic ...', 'url': 'https://www.theguardian.com/us-news/ng-interactive/2024/jan/21/presidential-election-candidates-biden-trump', 'datePublished': '2024-02-08T11:00:00.0000000', 'datePublishedDisplayText': 'Feb 8, 2024', 'isFamilyFriendly': True, 'displayUrl': 'https://www.theguardian.com/.../2024/jan/21/presidential-election-candidates-biden-trump', 'snippet': 'The 2024 election promises to be historic as a slate of Republican candidates seek to unseat the sitting president, Joe Biden. After the pandemic changed the way Americans campaigned and voted ...', 'dateLastCrawled': '2024-02-22T02:12:00.0000000Z', 'cachedPageUrl': 'http://cc.bingj.com/cache.aspx?q=2024+presidential+election+candidates+and+current+political+analysis&d=4807297129720530&mkt=en-US&setlang=en-US&w=0L7M1S-3EqyKGwxh3WA4q_7FftaMVwvc', 'language': 'en', 'isNavigational': False}, {'id': 'https://api.bing.microsoft.com/api/v7/#WebPages.8', 'name': '2024 US presidential election – News, Research and Analysis – The ...', 'url': 'https://theconversation.com/us/topics/2024-us-presidential-election-128451', 'thumbnailUrl': 'https://www.bing.com/th?id=OIP.6NPKiHugJS8cfITHtK84oQHaDl&w=80&h=80&c=1&pid=5.1', 'datePublished': '2024-02-06T00:00:00.0000000', 'datePublishedDisplayText': 'Feb 6, 2024', 'isFamilyFriendly': True, 'displayUrl': 'https://theconversation.com/us/topics/2024-us-presidential-election-128451', 'snippet': 'Republican presidential candidate Ron DeSantis greets an audience in West Des Moines, Iowa, on caucus night on Jan. 15, 2024. Anna Moneymaker/Getty Images January 16, 2024', 'dateLastCrawled': '2024-02-21T13:25:00.0000000Z', 'primaryImageOfPage': {'thumbnailUrl': 'https://www.bing.com/th?id=OIP.6NPKiHugJS8cfITHtK84oQHaDl&w=80&h=80&c=1&pid=5.1', 'width': 80, 'height': 80, 'imageId': 'OIP.6NPKiHugJS8cfITHtK84oQHaDl'}, 'cachedPageUrl': 'http://cc.bingj.com/cache.aspx?q=2024+presidential+election+candidates+and+current+political+analysis&d=4679246973136313&mkt=en-US&setlang=en-US&w=uE3TbxQvKoNP4HfgGLuLuw6aSF2e-bMJ', 'language': 'en', 'isNavigational': False}, {'id': 'https://api.bing.microsoft.com/api/v7/#WebPages.9', 'name': 'US 2024 presidential election: Dates, candidates and latest issues', 'url': 'https://www.reuters.com/world/us/us-presidential-election-2024-dates-candidates-latest-issues-2023-09-22/', 'datePublished': '2024-02-15T15:01:00.0000000', 'datePublishedDisplayText': 'Feb 15, 2024', 'isFamilyFriendly': True, 'displayUrl': 'https://www.reuters.com/world/us/us-presidential-election-2024-dates-candidates-latest...', 'snippet': 'Biden, the incumbent president, is the presumptive Democratic nominee. At 81, he would be the oldest American to win a presidential election should he clinch a second four-year term in November 2024.', 'dateLastCrawled': '2024-02-23T01:18:00.0000000Z', 'language': 'en', 'isNavigational': False}]}, 'relatedSearches': {'id': 'https://api.bing.microsoft.com/api/v7/#RelatedSearches', 'value': [{'text': 'presidential candidates 2024 comparison chart', 'displayText': 'presidential candidates 2024 comparison chart', 'webSearchUrl': 'https://www.bing.com/search?q=presidential+candidates+2024+comparison+chart'}, {'text': 'top 10 democratic presidential candidates 2024', 'displayText': 'top 10 democratic presidential candidates 2024', 'webSearchUrl': 'https://www.bing.com/search?q=top+10+democratic+presidential+candidates+2024'}, {'text': 'donald trump running for president 2024', 'displayText': 'donald trump running for president 2024', 'webSearchUrl': 'https://www.bing.com/search?q=donald+trump+running+for+president+2024'}, {'text': 'donald trump announces 2024 run', 'displayText': 'donald trump announces 2024 run', 'webSearchUrl': 'https://www.bing.com/search?q=donald+trump+announces+2024+run'}, {'text': 'running for president 2024 list', 'displayText': 'running for president 2024 list', 'webSearchUrl': 'https://www.bing.com/search?q=running+for+president+2024+list'}, {'text': 'possible democrat candidates for 2024', 'displayText': 'possible democrat candidates for 2024', 'webSearchUrl': 'https://www.bing.com/search?q=possible+democrat+candidates+for+2024'}, {'text': 'presidential candidate websites 2024', 'displayText': 'presidential candidate websites 2024', 'webSearchUrl': 'https://www.bing.com/search?q=presidential+candidate+websites+2024'}, {'text': 'what democrats running for president 2024', 'displayText': 'what democrats running for president 2024', 'webSearchUrl': 'https://www.bing.com/search?q=what+democrats+running+for+president+2024'}]}, 'videos': {'id': 'https://api.bing.microsoft.com/api/v7/#Videos', 'readLink': 'https://api.bing.microsoft.com/api/v7/videos/search?q=2024+presidential+election+candidates+and+current+political+analysis', 'webSearchUrl': 'https://www.bing.com/videos/search?q=2024+presidential+election+candidates+and+current+political+analysis', 'isFamilyFriendly': True, 'value': [{'webSearchUrl': 'https://www.bing.com/videos/search?q=2024%20presidential%20election%20candidates%20and%20current%20political%20analysis&view=detail&mid=5F688E54B51ECEA13A2A5F688E54B51ECEA13A2A', 'name': 'Trump legal cases, U.S. elections and more — political analysts share 2024 predictions', 'description': 'CBS News political contributors Terry Sullivan and Joel Payne join \"CBS Mornings\" to share their expectations for the new year in politics, including the 2024 presidential election, and what issues will matter most to voters. #news #2024elections #trump Each weekday morning, \"CBS Mornings” co-hosts Gayle King, Tony Dokoupil and Nate Burleson ...', 'thumbnailUrl': 'https://tse3.mm.bing.net/th?id=OVP.gBYwdA658Yb8nKuJDU1-EQHgFo&pid=Api', 'datePublished': '2023-12-29T16:03:08.0000000', 'publisher': [{'name': 'YouTube'}], 'creator': {'name': 'CBS News'}, 'isAccessibleForFree': True, 'contentUrl': 'https://www.youtube.com/watch?v=b2tNVdGlkRM', 'hostPageUrl': 'https://www.youtube.com/watch?v=b2tNVdGlkRM', 'encodingFormat': 'mp4', 'hostPageDisplayUrl': 'https://www.youtube.com/watch?v=b2tNVdGlkRM', 'width': 1920, 'height': 1080, 'duration': 'PT6M21S', 'motionThumbnailUrl': 'https://tse3.mm.bing.net/th?id=OM.Kjqhzh61VI5oXw&pid=Api', 'embedHtml': '<iframe width=\"1280\" height=\"720\" src=\"http://www.youtube.com/embed/b2tNVdGlkRM?autoplay=1\" frameborder=\"0\" allowfullscreen></iframe>', 'allowHttpsEmbed': True, 'viewCount': 104549, 'thumbnail': {'width': 160, 'height': 120}, 'allowMobileEmbed': True, 'isSuperfresh': False}, {'webSearchUrl': 'https://www.bing.com/videos/search?q=2024%20presidential%20election%20candidates%20and%20current%20political%20analysis&view=detail&mid=4E4FA4C7F1D57E86200E4E4FA4C7F1D57E86200E', 'name': 'Analysis | The top 10 Republican presidential candidates for 2024, ranked', 'description': 'This month’s biggest gainer: former South Carolina governor and United Nations ambassador Nikki Haley.', 'thumbnailUrl': 'https://tse1.mm.bing.net/th?id=OVP.HyGwvjiF8XODNhIDBH-lIgEsDI&pid=Api', 'datePublished': '2023-09-03T13:24:23.0000000', 'publisher': [{'name': 'The Washington Post'}], 'creator': {'name': 'aaron blake'}, 'contentUrl': 'https://www.washingtonpost.com/politics/2023/09/03/republican-presidential-rankings-2024/', 'hostPageUrl': 'https://www.washingtonpost.com/politics/2023/09/03/republican-presidential-rankings-2024/', 'encodingFormat': '', 'hostPageDisplayUrl': 'https://www.washingtonpost.com/politics/2023/09/03/republican-presidential-rankings-2024/', 'width': 1440, 'height': 960, 'embedHtml': '<iframe width=\"960\" height=\"720\" scrolling=\"no\" src=\"http://www.washingtonpost.com/posttv/c/embed/fe3f28f7-1ec7-4a7c-b1ef-224093c265f6\" frameborder=\"0\" allowfullscreen></iframe>', 'viewCount': 0, 'thumbnail': {'width': 160, 'height': 106}, 'isSuperfresh': False}, {'webSearchUrl': 'https://www.bing.com/videos/search?q=2024%20presidential%20election%20candidates%20and%20current%20political%20analysis&view=detail&mid=D4D2512B6678BA0E6292D4D2512B6678BA0E6292', 'name': 'Analysis | The top 10 GOP presidential candidates for 2024, ranked', 'description': 'With Trump announcing for president on Tuesday night, here’s the state of play.', 'thumbnailUrl': 'https://tse1.mm.bing.net/th?id=OVP.3ShE9Yq4O2jtmGUNbj1ieAEsDI&pid=Api', 'datePublished': '2022-11-12T12:52:39.0000000', 'publisher': [{'name': 'The Washington Post'}], 'creator': {'name': 'aaron blake'}, 'contentUrl': 'https://www.washingtonpost.com/politics/2022/11/12/top-10-republican-candidates-2024/', 'hostPageUrl': 'https://www.washingtonpost.com/politics/2022/11/12/top-10-republican-candidates-2024/', 'encodingFormat': '', 'hostPageDisplayUrl': 'https://www.washingtonpost.com/politics/2022/11/12/top-10-republican-candidates-2024/', 'width': 1440, 'height': 960, 'embedHtml': '<iframe width=\"960\" height=\"720\" scrolling=\"no\" src=\"http://www.washingtonpost.com/posttv/c/embed/403805c2-7288-4770-a9c4-de1682fe58af\" frameborder=\"0\" allowfullscreen></iframe>', 'viewCount': 0, 'thumbnail': {'width': 160, 'height': 106}, 'isSuperfresh': False}, {'webSearchUrl': 'https://www.bing.com/videos/search?q=2024%20presidential%20election%20candidates%20and%20current%20political%20analysis&view=detail&mid=F03E1CDFCB8E7844929CF03E1CDFCB8E7844929C', 'name': 'US Presidential Elections: Highlights from the Fourth 2024 Republican Primary Debate', 'description': \"In the fourth GOP debate, four Republican candidates discussed key issues and positioned themselves ahead of the 2024 primary calendar. The candidates focused on each other instead of attacking the former president, though the absence of Donald Trump was acknowledged. Here's a look at key moments of the debate. #republicandebate # ...\", 'thumbnailUrl': 'https://tse1.mm.bing.net/th?id=OVP.AnGHpiDo-SrRlHnJT2bk2wHgFo&pid=Api', 'datePublished': '2023-12-07T11:01:05.0000000', 'publisher': [{'name': 'YouTube'}], 'creator': {'name': 'The Economic Times'}, 'isAccessibleForFree': True, 'contentUrl': 'https://www.youtube.com/watch?v=Nr4JemnCgpI', 'hostPageUrl': 'https://www.youtube.com/watch?v=Nr4JemnCgpI', 'encodingFormat': 'mp4', 'hostPageDisplayUrl': 'https://www.youtube.com/watch?v=Nr4JemnCgpI', 'width': 1920, 'height': 1080, 'duration': 'PT8M39S', 'motionThumbnailUrl': 'https://tse1.mm.bing.net/th?id=OM.nJJEeI7L3xw-8A&pid=Api', 'embedHtml': '<iframe width=\"1280\" height=\"720\" src=\"http://www.youtube.com/embed/Nr4JemnCgpI?autoplay=1\" frameborder=\"0\" allowfullscreen></iframe>', 'allowHttpsEmbed': True, 'viewCount': 395534, 'thumbnail': {'width': 160, 'height': 120}, 'allowMobileEmbed': True, 'isSuperfresh': False}, {'webSearchUrl': 'https://www.bing.com/videos/search?q=2024%20presidential%20election%20candidates%20and%20current%20political%20analysis&view=detail&mid=054294E1C840D04AE536054294E1C840D04AE536', 'name': '2024 Presidential primaries explained: What is a primary, who can vote and when do they occur?', 'description': 'A primary is an election to select candidates, usually for a particular political party, to appear on the general election ballot.', 'thumbnailUrl': 'https://tse1.mm.bing.net/th?id=OVP.hgjdK_YxIQbyB5YJcDpL-AEACQ&pid=Api', 'datePublished': '2024-01-09T17:12:00.0000000', 'publisher': [{'name': 'ABC13 Houston'}], 'creator': {'name': 'Analysis by Zachary B. Wolf,CNN'}, 'contentUrl': 'https://abc13.com/presidential-primaries-what-are-the-caucuses-2024/14301181/', 'hostPageUrl': 'https://abc13.com/presidential-primaries-what-are-the-caucuses-2024/14301181/', 'encodingFormat': '', 'hostPageDisplayUrl': 'https://abc13.com/presidential-primaries-what-are-the-caucuses-2024/14301181/', 'width': 1600, 'height': 900, 'motionThumbnailUrl': 'https://tse1.mm.bing.net/th?id=OM.NuVK0EDI4ZRCBQ_1707394969&pid=Api', 'embedHtml': '<iframe width=\"476\" height=\"267\" src=\"https://abc13.com/video/embed/?pid=14267460\" scrolling=\"no\" frameborder=\"0\" allowfullscreen></iframe>', 'allowHttpsEmbed': True, 'viewCount': 0, 'thumbnail': {'width': 160, 'height': 90}, 'allowMobileEmbed': True, 'isSuperfresh': False}, {'webSearchUrl': 'https://www.bing.com/videos/search?q=2024%20presidential%20election%20candidates%20and%20current%20political%20analysis&view=detail&mid=B4954787BFF4C098C590B4954787BFF4C098C590', 'name': 'Democrats respond to recent 2024 polling', 'description': 'While former President Donald Trump touted recent poll numbers on Monday, CBS News polling found Americans have concerns about both the former president and President Biden serving another term. CBS News chief Washington correspondent Major Garrett digs into national polling at this early stage in the race. #news #politics #polling CBS News ...', 'thumbnailUrl': 'https://tse2.mm.bing.net/th?id=OVP.blAfES7Xes09kKyOuUlS0QHgFo&pid=Api', 'datePublished': '2023-09-25T23:20:12.0000000', 'publisher': [{'name': 'YouTube'}], 'creator': {'name': 'CBS News'}, 'isAccessibleForFree': True, 'contentUrl': 'https://www.youtube.com/watch?v=XOGTdSiCnCA', 'hostPageUrl': 'https://www.youtube.com/watch?v=XOGTdSiCnCA', 'encodingFormat': 'mp4', 'hostPageDisplayUrl': 'https://www.youtube.com/watch?v=XOGTdSiCnCA', 'width': 1920, 'height': 1080, 'duration': 'PT5M27S', 'motionThumbnailUrl': 'https://tse2.mm.bing.net/th?id=OM.kMWYwPS_h0eVtA&pid=Api', 'embedHtml': '<iframe width=\"1280\" height=\"720\" src=\"http://www.youtube.com/embed/XOGTdSiCnCA?autoplay=1\" frameborder=\"0\" allowfullscreen></iframe>', 'allowHttpsEmbed': True, 'viewCount': 28885, 'thumbnail': {'width': 160, 'height': 120}, 'allowMobileEmbed': True, 'isSuperfresh': False}, {'webSearchUrl': 'https://www.bing.com/videos/search?q=2024%20presidential%20election%20candidates%20and%20current%20political%20analysis&view=detail&mid=D37F2EA10E19C6BE9269D37F2EA10E19C6BE9269', 'name': 'Steve Kornacki looks ahead to the 2024 presidential election', 'description': 'Steve Kornacki looks ahead to the 2024 presidential election. » Subscribe to MSNBC: https://www.youtube.com/msnbc Follow MSNBC Show Blogs MaddowBlog: https://www.msnbc.com/maddowblog ReidOut Blog: https://www.msnbc.com/reidoutblog MSNBC delivers breaking news, in-depth analysis of politics headlines, as well as commentary and informed ...', 'thumbnailUrl': 'https://tse2.mm.bing.net/th?id=OVP.Eavr2nPEFluqmqgM-jtZxwEsDh&pid=Api', 'datePublished': '2023-12-28T13:07:03.0000000', 'publisher': [{'name': 'YouTube'}], 'creator': {'name': 'MSNBC'}, 'isAccessibleForFree': True, 'contentUrl': 'https://www.youtube.com/watch?v=PQyEXRNlNLc', 'hostPageUrl': 'https://www.youtube.com/watch?v=PQyEXRNlNLc', 'encodingFormat': 'mp4', 'hostPageDisplayUrl': 'https://www.youtube.com/watch?v=PQyEXRNlNLc', 'width': 1920, 'height': 1080, 'duration': 'PT4M38S', 'motionThumbnailUrl': 'https://tse2.mm.bing.net/th?id=OM.aZK-xhkOoS5_0w_1704715632&pid=Api', 'embedHtml': '<iframe width=\"1280\" height=\"720\" src=\"http://www.youtube.com/embed/PQyEXRNlNLc?autoplay=1\" frameborder=\"0\" allowfullscreen></iframe>', 'allowHttpsEmbed': True, 'viewCount': 454585, 'thumbnail': {'width': 160, 'height': 120}, 'allowMobileEmbed': True, 'isSuperfresh': False}, {'webSearchUrl': 'https://www.bing.com/videos/search?q=2024%20presidential%20election%20candidates%20and%20current%20political%20analysis&view=detail&mid=AA82A4BD5D4217755B36AA82A4BD5D4217755B36', 'name': 'Number of presidential candidates for 2024 is small compared to this time in 2020 race', 'description': 'Robert F. Kennedy Jr. announced his presidential campaign Wednesday, joining one other Democratic candidate and a growing list of Republicans. Subscribe to WMUR on YouTube now for more: http://bit.ly/1lOjX9C Get more Manchester news: http://www.wmur.com Like us: https://www.facebook.com/wmur9 Follow us: https://twitter.com/WMUR9 Instagram ...', 'thumbnailUrl': 'https://tse2.mm.bing.net/th?id=OVP.sPoaeH4YdlkMuPHhsk7zmAHgFo&pid=Api', 'datePublished': '2023-04-06T03:42:15.0000000', 'publisher': [{'name': 'YouTube'}], 'creator': {'name': 'WMUR-TV'}, 'isAccessibleForFree': True, 'contentUrl': 'https://www.youtube.com/watch?v=POKlZtJYrqg', 'hostPageUrl': 'https://www.youtube.com/watch?v=POKlZtJYrqg', 'encodingFormat': 'mp4', 'hostPageDisplayUrl': 'https://www.youtube.com/watch?v=POKlZtJYrqg', 'width': 1280, 'height': 720, 'duration': 'PT2M16S', 'motionThumbnailUrl': 'https://tse2.mm.bing.net/th?id=OM1.Nlt1F0JdvaSCqg&pid=Api', 'embedHtml': '<iframe width=\"1280\" height=\"720\" src=\"http://www.youtube.com/embed/POKlZtJYrqg?autoplay=1\" frameborder=\"0\" allowfullscreen></iframe>', 'allowHttpsEmbed': True, 'viewCount': 72709, 'thumbnail': {'width': 160, 'height': 120}, 'allowMobileEmbed': True, 'isSuperfresh': False}, {'webSearchUrl': 'https://www.bing.com/videos/search?q=2024%20presidential%20election%20candidates%20and%20current%20political%20analysis&view=detail&mid=05CC81DEA3695DC0719E05CC81DEA3695DC0719E', 'name': 'US Presidential elections 2024: Polls show tie between Ramaswamy & DeSaints | WION', 'description': \"The 2024 presidential race is heating up in the United States and it's not only the conventional red versus blue rivalry that's getting intense. The intra-party race for the Republican nomination is also getting interesting. #republican #ramaswamy #elections About Channel: WION The World is One News examines global issues with in-depth analysis ...\", 'thumbnailUrl': 'https://tse1.mm.bing.net/th?id=OVP.MYw8lCrNtd-iu4JI2DbUFQHgFo&pid=Api', 'datePublished': '2023-07-25T15:47:43.0000000', 'publisher': [{'name': 'YouTube'}], 'creator': {'name': 'WION'}, 'isAccessibleForFree': True, 'contentUrl': 'https://www.youtube.com/watch?v=15Bfx9gyMz0', 'hostPageUrl': 'https://www.youtube.com/watch?v=15Bfx9gyMz0', 'encodingFormat': 'mp4', 'hostPageDisplayUrl': 'https://www.youtube.com/watch?v=15Bfx9gyMz0', 'width': 1920, 'height': 1080, 'duration': 'PT2M21S', 'motionThumbnailUrl': 'https://tse1.mm.bing.net/th?id=OM1.nnHAXWmj3oHMBQ&pid=Api', 'embedHtml': '<iframe width=\"1280\" height=\"720\" src=\"http://www.youtube.com/embed/15Bfx9gyMz0?autoplay=1\" frameborder=\"0\" allowfullscreen></iframe>', 'allowHttpsEmbed': True, 'viewCount': 54504, 'thumbnail': {'width': 160, 'height': 120}, 'allowMobileEmbed': True, 'isSuperfresh': False}, {'webSearchUrl': 'https://www.bing.com/videos/search?q=2024%20presidential%20election%20candidates%20and%20current%20political%20analysis&view=detail&mid=566E2B29E29D99FA5B02566E2B29E29D99FA5B02', 'name': 'Donald Trump 2024', 'description': \"Read the latest streaming news and analysis on Donald Trump and the 2020 Presidential Election. Follow today's top polls, candidates, primaries, fundraising, debates and more with POLITICO.\", 'thumbnailUrl': 'https://tse2.mm.bing.net/th?id=OVP.sKhxOjltPlzAeoztcHfc0gEsCo&pid=Api', 'datePublished': '2024-02-09T14:17:00.0000000', 'publisher': [{'name': 'POLITICO'}], 'creator': {'name': 'KATHERINE TULLY-MCMANUS,URSULA PERANO'}, 'contentUrl': 'https://www.politico.com/news/trump-2020-presidential-election', 'hostPageUrl': 'https://www.politico.com/news/trump-2020-presidential-election', 'encodingFormat': '', 'hostPageDisplayUrl': 'https://www.politico.com/news/trump-2020-presidential-election', 'width': 1160, 'height': 653, 'embedHtml': \"<iframe src='//players.brightcove.net/1155968404/r1WF6V0Pl_default/index.html?videoId=6346550699112' allowfullscreen frameborder=0></iframe>\", 'allowHttpsEmbed': True, 'viewCount': 0, 'thumbnail': {'width': 160, 'height': 89}, 'allowMobileEmbed': True, 'isSuperfresh': False}], 'scenario': 'List'}, 'rankingResponse': {'mainline': {'items': [{'answerType': 'WebPages', 'resultIndex': 0, 'value': {'id': 'https://api.bing.microsoft.com/api/v7/#WebPages.0'}}, {'answerType': 'WebPages', 'resultIndex': 1, 'value': {'id': 'https://api.bing.microsoft.com/api/v7/#WebPages.1'}}, {'answerType': 'WebPages', 'resultIndex': 2, 'value': {'id': 'https://api.bing.microsoft.com/api/v7/#WebPages.2'}}, {'answerType': 'WebPages', 'resultIndex': 3, 'value': {'id': 'https://api.bing.microsoft.com/api/v7/#WebPages.3'}}, {'answerType': 'Videos', 'value': {'id': 'https://api.bing.microsoft.com/api/v7/#Videos'}}, {'answerType': 'WebPages', 'resultIndex': 4, 'value': {'id': 'https://api.bing.microsoft.com/api/v7/#WebPages.4'}}, {'answerType': 'WebPages', 'resultIndex': 5, 'value': {'id': 'https://api.bing.microsoft.com/api/v7/#WebPages.5'}}, {'answerType': 'WebPages', 'resultIndex': 6, 'value': {'id': 'https://api.bing.microsoft.com/api/v7/#WebPages.6'}}, {'answerType': 'WebPages', 'resultIndex': 7, 'value': {'id': 'https://api.bing.microsoft.com/api/v7/#WebPages.7'}}, {'answerType': 'WebPages', 'resultIndex': 8, 'value': {'id': 'https://api.bing.microsoft.com/api/v7/#WebPages.8'}}, {'answerType': 'WebPages', 'resultIndex': 9, 'value': {'id': 'https://api.bing.microsoft.com/api/v7/#WebPages.9'}}, {'answerType': 'RelatedSearches', 'value': {'id': 'https://api.bing.microsoft.com/api/v7/#RelatedSearches'}}]}}}\n"
     ]
    }
   ],
   "source": [
    "print(response.json())"
   ]
  },
  {
   "cell_type": "code",
   "execution_count": 14,
   "metadata": {},
   "outputs": [],
   "source": [
    "context = ''\n",
    "for result in response.json()['webPages']['value']:\n",
    "    context += result['snippet'] + '\\n'"
   ]
  },
  {
   "attachments": {},
   "cell_type": "markdown",
   "metadata": {},
   "source": [
    "### Collected information for further processing"
   ]
  },
  {
   "cell_type": "code",
   "execution_count": 15,
   "metadata": {},
   "outputs": [
    {
     "name": "stdout",
     "output_type": "stream",
     "text": [
      "As voters in early states head to the polls, the Republican presidential field has dropped to two candidates. Former President Donald Trump continues to lead the pack by a considerable margin and ...\n",
      "Campaigns 2016 to 2024: When Candidates Entered and Exited Their Races. In the past two presidential election cycles, most announced their bids by summer the year before Election Day and dropped ...\n",
      "2024 election guide: Presidential candidates, polls, primaries and caucuses, voter information and results for November 5, 2024\n",
      "Election 2024. Get the latest news on the 2024 election. Compare where the 2024 presidential candidates stand on key issues like abortion, climate and the economy.\n",
      "Live 2024 election results and maps by state The presidential nominating contests begin with the Iowa caucuses on Jan. 15 and the first-in-the-nation New Hampshire primary on Jan. 23.\n",
      "The latest political polls and polling averages from FiveThirtyEight. UPDATED Feb. 22, 2024, at 3:59 PM ... An updating average of 2020 presidential general election polls, accounting for each poll’s quality, sample size and recency. KEY. ... presidential approval and national 2024 Republican primary averages is available for download here.\n",
      "The primary elections are ongoing, thus the Republican and Democratic candidates have yet to be officially determined. Nonetheless, recent polls have indicated an almost certain rematch between ...\n",
      "The 2024 election promises to be historic as a slate of Republican candidates seek to unseat the sitting president, Joe Biden. After the pandemic changed the way Americans campaigned and voted ...\n",
      "Republican presidential candidate Ron DeSantis greets an audience in West Des Moines, Iowa, on caucus night on Jan. 15, 2024. Anna Moneymaker/Getty Images January 16, 2024\n",
      "Biden, the incumbent president, is the presumptive Democratic nominee. At 81, he would be the oldest American to win a presidential election should he clinch a second four-year term in November 2024.\n",
      "\n"
     ]
    }
   ],
   "source": [
    "print(context)"
   ]
  },
  {
   "cell_type": "code",
   "execution_count": 17,
   "metadata": {},
   "outputs": [],
   "source": [
    "system_prompt=f'''Answer the following questions as best you can. Use the context provided below:\n",
    "{context}\n",
    "\n",
    "Begin!\n",
    "'''\n",
    "user_prompt = f'''\n",
    "Question: {input}\\\n",
    "Answer:'''"
   ]
  },
  {
   "attachments": {},
   "cell_type": "markdown",
   "metadata": {},
   "source": [
    "### Step 3: GPT3: What do I need to do to answer this question? (Again)"
   ]
  },
  {
   "cell_type": "code",
   "execution_count": 18,
   "metadata": {},
   "outputs": [
    {
     "name": "stdout",
     "output_type": "stream",
     "text": [
      "The text does not provide specific information on which candidate is likely to win the 2024 presidential election. The race is noted as being between former President Donald Trump, leading the Republican pack, and the incumbent president, Joe Biden, as the presumptive Democratic nominee. The results will depend on various factors including their campaign strategies, current political climate, and voters' perception of their stance on key issues.\n"
     ]
    }
   ],
   "source": [
    "response = openai.ChatCompletion.create(\n",
    "    engine=CHAT_COMPLETIONS_MODEL,\n",
    "    messages = [{\"role\":\"system\", \"content\":system_prompt},\n",
    "                {\"role\":\"user\",\"content\": user_prompt,}],\n",
    "        max_tokens=400,)\n",
    "\n",
    "print(response['choices'][0]['message']['content'])"
   ]
  },
  {
   "attachments": {},
   "cell_type": "markdown",
   "metadata": {},
   "source": [
    "### GPT3: I now have final answer to the question. "
   ]
  },
  {
   "cell_type": "code",
   "execution_count": null,
   "metadata": {},
   "outputs": [],
   "source": []
  }
 ],
 "metadata": {
  "kernelspec": {
   "display_name": "azureml_py310_sdkv2",
   "language": "python",
   "name": "python3"
  },
  "language_info": {
   "codemirror_mode": {
    "name": "ipython",
    "version": 3
   },
   "file_extension": ".py",
   "mimetype": "text/x-python",
   "name": "python",
   "nbconvert_exporter": "python",
   "pygments_lexer": "ipython3",
   "version": "3.12.2"
  },
  "orig_nbformat": 4
 },
 "nbformat": 4,
 "nbformat_minor": 2
}
