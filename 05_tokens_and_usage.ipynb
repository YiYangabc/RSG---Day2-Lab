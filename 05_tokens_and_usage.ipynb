{
 "cells": [
  {
   "attachments": {},
   "cell_type": "markdown",
   "metadata": {},
   "source": [
    "# Tokens"
   ]
  },
  {
   "cell_type": "code",
   "execution_count": 1,
   "metadata": {},
   "outputs": [],
   "source": [
    "import os\n",
    "import openai\n",
    "import tiktoken\n",
    "from dotenv import load_dotenv\n",
    "load_dotenv()\n",
    "\n",
    "openai.api_type = \"azure\"\n",
    "openai.api_version = os.getenv(\"OPENAI_API_VERSION\")\n",
    "openai.api_key = os.getenv(\"OPENAI_API_KEY\")\n",
    "openai.api_base = os.getenv(\"OPENAI_API_BASE\")\n",
    "\n",
    "CHAT_COMPLETIONS_MODEL = os.getenv('GPT_4_DEPLOYMENT')"
   ]
  },
  {
   "cell_type": "code",
   "execution_count": 2,
   "metadata": {},
   "outputs": [
    {
     "name": "stdout",
     "output_type": "stream",
     "text": [
      "Total number of tokens: 9\n",
      "Tokens : [79207, 5377, 15836, 2532, 374, 3331, 16528, 1457, 0]\n",
      "Words :  ['Azure', ' Open', 'AI', ' service', ' is', ' General', ' Available', ' now', '!']\n"
     ]
    }
   ],
   "source": [
    "# Check it in UI - https://platform.openai.com/tokenizer\n",
    "encoding=tiktoken.encoding_for_model(\"gpt-3.5-turbo\")\n",
    "prompt = \"Azure OpenAI service is General Available now!\"\n",
    "tokens = encoding.encode(prompt)\n",
    "print('Total number of tokens:', len(tokens))\n",
    "print('Tokens :', tokens)\n",
    "print('Words : ', [encoding.decode([t]) for t in tokens])\n"
   ]
  },
  {
   "cell_type": "code",
   "execution_count": 9,
   "metadata": {},
   "outputs": [],
   "source": [
    "response = openai.ChatCompletion.create(\n",
    "  engine=CHAT_COMPLETIONS_MODEL,\n",
    "  messages = [{\"role\":\"system\", \"content\":\"You are a helpful assistant.\"},\n",
    "               {\"role\":\"user\",\"content\": prompt}],\n",
    "    max_tokens=60,\n",
    "    n=2,\n",
    ")"
   ]
  },
  {
   "attachments": {},
   "cell_type": "markdown",
   "metadata": {},
   "source": [
    "# Show 2 returned results"
   ]
  },
  {
   "cell_type": "code",
   "execution_count": 6,
   "metadata": {},
   "outputs": [
    {
     "name": "stdout",
     "output_type": "stream",
     "text": [
      "============================== ANSWER #1 ==============================\n",
      "That's fantastic news! Now, developers have access to OpenAI's advanced AI models directly through Microsoft Azure. This allows them to infuse their applications, products, and services with intelligent features like language understanding, command completion, text generation, and more. It's an exciting step forward in making advanced\n",
      "============================== ANSWER #2 ==============================\n",
      "That's fantastic! Microsoft Azure's OpenAI service can do so many things like generating human-like text, help users draft emails or pieces of writing, translate languages, simulate characters for video games, tutor in a variety of subjects, and answer questions in a customer service environment. This technology opens up a\n"
     ]
    }
   ],
   "source": [
    "print('='*30, 'ANSWER #1', '='*30)\n",
    "print(response['choices'][0]['message']['content'])\n",
    "print('='*30, 'ANSWER #2', '='*30)\n",
    "print(response['choices'][1]['message']['content'])\n"
   ]
  },
  {
   "attachments": {},
   "cell_type": "markdown",
   "metadata": {},
   "source": [
    "# Usage"
   ]
  },
  {
   "cell_type": "code",
   "execution_count": 10,
   "metadata": {},
   "outputs": [
    {
     "data": {
      "text/plain": [
       "<OpenAIObject at 0x15a298a52c0> JSON: {\n",
       "  \"completion_tokens\": 117,\n",
       "  \"prompt_tokens\": 26,\n",
       "  \"total_tokens\": 143\n",
       "}"
      ]
     },
     "execution_count": 10,
     "metadata": {},
     "output_type": "execute_result"
    }
   ],
   "source": [
    "response['usage']"
   ]
  },
  {
   "cell_type": "code",
   "execution_count": null,
   "metadata": {},
   "outputs": [],
   "source": []
  }
 ],
 "metadata": {
  "kernelspec": {
   "display_name": "azureml_py310_sdkv2",
   "language": "python",
   "name": "python3"
  },
  "language_info": {
   "codemirror_mode": {
    "name": "ipython",
    "version": 3
   },
   "file_extension": ".py",
   "mimetype": "text/x-python",
   "name": "python",
   "nbconvert_exporter": "python",
   "pygments_lexer": "ipython3",
   "version": "3.12.2"
  },
  "orig_nbformat": 4,
  "vscode": {
   "interpreter": {
    "hash": "2139c70ac98f3202d028164a545621647e07f47fd6f5d8ac55cf952bf7c15ed1"
   }
  }
 },
 "nbformat": 4,
 "nbformat_minor": 2
}
